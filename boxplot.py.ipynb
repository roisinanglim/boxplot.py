{
 "cells": [
  {
   "cell_type": "markdown",
   "metadata": {},
   "source": [
    "## Boxplots\n",
    "-------------------"
   ]
  },
  {
   "cell_type": "markdown",
   "metadata": {},
   "source": [
    "### Introduction\n",
    "------------------------------\n",
    "The boxplot was first introduced by John Tukey in 1977 as part of his toolkit for exploratory data analytics and is now one of the most frequently utilised statistical graphs [1]. The traditional boxplot is typically used for univariate data exploration and for the comparison of several univariate variables [2]. It is constructed to display the median, the upper and lower quartiles, the interquartile range, the upper and lower extremes as well as any potential outlier data points (Fig 1). In addition to this,  a box plot can provide information on the spread of the data (by the length of the box and  the distance between the upper and lower extremes), skewness by the deviation of the median line from the centre of the box, and longtailedness by the distance between the ends of the whiskers relative to the length of the box [3].  \n"
   ]
  },
  {
   "cell_type": "code",
   "execution_count": 2,
   "metadata": {},
   "outputs": [
    {
     "data": {
      "text/html": [
       "<img src = \"img/boxplot.JPG\">"
      ],
      "text/plain": [
       "<IPython.core.display.HTML object>"
      ]
     },
     "metadata": {},
     "output_type": "display_data"
    }
   ],
   "source": [
    "%%html\n",
    "<img src = \"img/boxplot.JPG\">"
   ]
  },
  {
   "cell_type": "markdown",
   "metadata": {},
   "source": [
    "Fig (1):  Annotated boxplot of 1000 points from a normal distbution with a mean of 100 and standard deviation of 20.[2]"
   ]
  },
  {
   "cell_type": "markdown",
   "metadata": {},
   "source": [
    "There have been many alternatives and variations of the boxplot proposed in the literature. The purpose of this Juypter notebook was to demonstrate the creation and interpretation of a boxplot using commonly utilised python packages and the Titanic dataset (https://www.kaggle.com/c/titanic). In addition to this, several alternative and variations of the boxplot will be illustrated."
   ]
  },
  {
   "cell_type": "markdown",
   "metadata": {},
   "source": [
    "### Creating a Boxplot \n",
    "---------------------------------\n",
    "\n",
    "After firstly loading the required packages, the Titanic dataset was imported and screened.   The Titanic dataset contains 13 demographic and travel features for 1,309 Titanic passengers and their survival status.  However, for the purpose of this assignment, our descriptive analysis will be delimited to the age and survival features. "
   ]
  },
  {
   "cell_type": "code",
   "execution_count": 3,
   "metadata": {},
   "outputs": [],
   "source": [
    "# Import all packages\n",
    "import pandas as pd\n",
    "import numpy as np\n",
    "import seaborn as sns\n",
    "import matplotlib.pyplot as plt \n",
    "import os\n",
    "from IPython.core.interactiveshell import InteractiveShell\n",
    "InteractiveShell.ast_node_interactivity = \"all\""
   ]
  },
  {
   "cell_type": "code",
   "execution_count": 4,
   "metadata": {},
   "outputs": [
    {
     "name": "stdout",
     "output_type": "stream",
     "text": [
      "<module 'os' from 'C:\\\\Users\\\\Harvey Norman\\\\Ana\\\\Anaconda1\\\\lib\\\\os.py'>\n"
     ]
    },
    {
     "data": {
      "text/html": [
       "<div>\n",
       "<style scoped>\n",
       "    .dataframe tbody tr th:only-of-type {\n",
       "        vertical-align: middle;\n",
       "    }\n",
       "\n",
       "    .dataframe tbody tr th {\n",
       "        vertical-align: top;\n",
       "    }\n",
       "\n",
       "    .dataframe thead th {\n",
       "        text-align: right;\n",
       "    }\n",
       "</style>\n",
       "<table border=\"1\" class=\"dataframe\">\n",
       "  <thead>\n",
       "    <tr style=\"text-align: right;\">\n",
       "      <th></th>\n",
       "      <th>pclass</th>\n",
       "      <th>survived</th>\n",
       "      <th>name</th>\n",
       "      <th>sex</th>\n",
       "      <th>age</th>\n",
       "      <th>sibsp</th>\n",
       "      <th>parch</th>\n",
       "      <th>ticket</th>\n",
       "      <th>fare</th>\n",
       "      <th>cabin</th>\n",
       "      <th>embarked</th>\n",
       "      <th>boat</th>\n",
       "      <th>body</th>\n",
       "      <th>home.dest</th>\n",
       "    </tr>\n",
       "  </thead>\n",
       "  <tbody>\n",
       "    <tr>\n",
       "      <th>0</th>\n",
       "      <td>1.0</td>\n",
       "      <td>1.0</td>\n",
       "      <td>Allen, Miss. Elisabeth Walton</td>\n",
       "      <td>female</td>\n",
       "      <td>29.0000</td>\n",
       "      <td>0.0</td>\n",
       "      <td>0.0</td>\n",
       "      <td>24160</td>\n",
       "      <td>211.3375</td>\n",
       "      <td>B5</td>\n",
       "      <td>S</td>\n",
       "      <td>2</td>\n",
       "      <td>NaN</td>\n",
       "      <td>St Louis, MO</td>\n",
       "    </tr>\n",
       "    <tr>\n",
       "      <th>1</th>\n",
       "      <td>1.0</td>\n",
       "      <td>1.0</td>\n",
       "      <td>Allison, Master. Hudson Trevor</td>\n",
       "      <td>male</td>\n",
       "      <td>0.9167</td>\n",
       "      <td>1.0</td>\n",
       "      <td>2.0</td>\n",
       "      <td>113781</td>\n",
       "      <td>151.5500</td>\n",
       "      <td>C22 C26</td>\n",
       "      <td>S</td>\n",
       "      <td>11</td>\n",
       "      <td>NaN</td>\n",
       "      <td>Montreal, PQ / Chesterville, ON</td>\n",
       "    </tr>\n",
       "    <tr>\n",
       "      <th>2</th>\n",
       "      <td>1.0</td>\n",
       "      <td>0.0</td>\n",
       "      <td>Allison, Miss. Helen Loraine</td>\n",
       "      <td>female</td>\n",
       "      <td>2.0000</td>\n",
       "      <td>1.0</td>\n",
       "      <td>2.0</td>\n",
       "      <td>113781</td>\n",
       "      <td>151.5500</td>\n",
       "      <td>C22 C26</td>\n",
       "      <td>S</td>\n",
       "      <td>NaN</td>\n",
       "      <td>NaN</td>\n",
       "      <td>Montreal, PQ / Chesterville, ON</td>\n",
       "    </tr>\n",
       "    <tr>\n",
       "      <th>3</th>\n",
       "      <td>1.0</td>\n",
       "      <td>0.0</td>\n",
       "      <td>Allison, Mr. Hudson Joshua Creighton</td>\n",
       "      <td>male</td>\n",
       "      <td>30.0000</td>\n",
       "      <td>1.0</td>\n",
       "      <td>2.0</td>\n",
       "      <td>113781</td>\n",
       "      <td>151.5500</td>\n",
       "      <td>C22 C26</td>\n",
       "      <td>S</td>\n",
       "      <td>NaN</td>\n",
       "      <td>135.0</td>\n",
       "      <td>Montreal, PQ / Chesterville, ON</td>\n",
       "    </tr>\n",
       "    <tr>\n",
       "      <th>4</th>\n",
       "      <td>1.0</td>\n",
       "      <td>0.0</td>\n",
       "      <td>Allison, Mrs. Hudson J C (Bessie Waldo Daniels)</td>\n",
       "      <td>female</td>\n",
       "      <td>25.0000</td>\n",
       "      <td>1.0</td>\n",
       "      <td>2.0</td>\n",
       "      <td>113781</td>\n",
       "      <td>151.5500</td>\n",
       "      <td>C22 C26</td>\n",
       "      <td>S</td>\n",
       "      <td>NaN</td>\n",
       "      <td>NaN</td>\n",
       "      <td>Montreal, PQ / Chesterville, ON</td>\n",
       "    </tr>\n",
       "  </tbody>\n",
       "</table>\n",
       "</div>"
      ],
      "text/plain": [
       "   pclass  survived                                             name     sex  \\\n",
       "0     1.0       1.0                    Allen, Miss. Elisabeth Walton  female   \n",
       "1     1.0       1.0                   Allison, Master. Hudson Trevor    male   \n",
       "2     1.0       0.0                     Allison, Miss. Helen Loraine  female   \n",
       "3     1.0       0.0             Allison, Mr. Hudson Joshua Creighton    male   \n",
       "4     1.0       0.0  Allison, Mrs. Hudson J C (Bessie Waldo Daniels)  female   \n",
       "\n",
       "       age  sibsp  parch  ticket      fare    cabin embarked boat   body  \\\n",
       "0  29.0000    0.0    0.0   24160  211.3375       B5        S    2    NaN   \n",
       "1   0.9167    1.0    2.0  113781  151.5500  C22 C26        S   11    NaN   \n",
       "2   2.0000    1.0    2.0  113781  151.5500  C22 C26        S  NaN    NaN   \n",
       "3  30.0000    1.0    2.0  113781  151.5500  C22 C26        S  NaN  135.0   \n",
       "4  25.0000    1.0    2.0  113781  151.5500  C22 C26        S  NaN    NaN   \n",
       "\n",
       "                         home.dest  \n",
       "0                     St Louis, MO  \n",
       "1  Montreal, PQ / Chesterville, ON  \n",
       "2  Montreal, PQ / Chesterville, ON  \n",
       "3  Montreal, PQ / Chesterville, ON  \n",
       "4  Montreal, PQ / Chesterville, ON  "
      ]
     },
     "execution_count": 4,
     "metadata": {},
     "output_type": "execute_result"
    }
   ],
   "source": [
    "#confirm directory for your dataset\n",
    "print(os)\n",
    "#Read in data from a csv file\n",
    "df = pd.read_csv('titanic3.csv') \n",
    "#print first 5 lines of imported data to see data types\n",
    "df.head()\n",
    "#Delimit data to the age and surival column\n",
    "df = df[['age','survived']]"
   ]
  },
  {
   "cell_type": "markdown",
   "metadata": {},
   "source": [
    "Data is screened for missing data and NaNs. Rather than inputing these values in anyway, these cells are dropped from the analysis. Finally boxplots of age for the binary survival metric is plotted (Fig 2)."
   ]
  },
  {
   "cell_type": "code",
   "execution_count": 7,
   "metadata": {},
   "outputs": [
    {
     "data": {
      "text/plain": [
       "<matplotlib.axes._subplots.AxesSubplot at 0x2a9b1cb9b00>"
      ]
     },
     "execution_count": 7,
     "metadata": {},
     "output_type": "execute_result"
    },
    {
     "data": {
      "image/png": "[encoded data removed]",
      "text/plain": [
       "<Figure size 432x288 with 1 Axes>"
      ]
     },
     "metadata": {
      "needs_background": "light"
     },
     "output_type": "display_data"
    }
   ],
   "source": [
    "#Boxplot created on Titanic dataset\n",
    "sns.boxplot(x = \"survived\", y=\"age\", data = df)"
   ]
  },
  {
   "cell_type": "markdown",
   "metadata": {},
   "source": [
    "### Visual interpretation of the boxplot based on Titantic dataset \n",
    "-------------------------------------------------------------\n",
    "\n",
    "The boxplot above compares the age of passangers that survived (1.0) against those that died (0.0). \n",
    "\n",
    "Outliers\n",
    "\n",
    "- The points above the whiskers identify potential outliers that need to be investigated.\n",
    "- There apear to be 4 potential outliers in the group who survied and 2 in the group who did not survive.\n",
    "- The potential outliers are more extremer in the group who did not survive in comparison to group who did survive.\n",
    "\n",
    "Distribution \n",
    "\n",
    "- The median age of 28 is the same across both groups. \n",
    "- The lower quartile ranges from approximatily 1-20 years for both groups. \n",
    "- The upper quratile appears to be different for each group. The group who survived demonstrate values ranging from 39-62 while the group who did not survive demonstrate values ranging from 39-65.\n",
    "- Interquartile ranges between 20-38 years and 21-39 years for the group who survived and group who did not respectively. \n",
    "- At first glance the group who did not survive appear to have a more positivly skewed distribution (longer upper whisker and off-centred median line) in comparision to the group who did survive. However, the presence of more extreme values in the group who survived may also cause this dataset to be postively skewed. \n",
    "\n",
    "Conclusions. \n",
    "\n",
    "Given the overlap of the interqurtile ranges and median values it would appear that the two groups are not linerly seperable on the age feature alone. The box plots are a usefull means of visualising and comparing univariate distribution and the visual inspection of the plot provides close estimates of the actual calculated values below.\n"
   ]
  },
  {
   "cell_type": "markdown",
   "metadata": {},
   "source": [
    "Variations of the boxplot \n",
    "--------------------------"
   ]
  },
  {
   "cell_type": "markdown",
   "metadata": {},
   "source": [
    "### There are many varations of the boxplot \n",
    "\n",
    "Due to their practicallity overtime boxplots have evolved into a wealth of variations and enhancements.The variations have consisted of changes in both the grapical display and the definitions of the original graph. Examples of the variations include the violin,notched,beanplot and variable width graphs displayed and discussed below.[1]\n",
    "\n",
    "#### The Violinplot- Figure 2 \n",
    "-------------------------------------- \n",
    "The violiplot can be used to view the distribution of data. The bar in the centre of the graph displays the interquartile and the dot in the centre displays the median.The line in the centre displays the 95% confidence intervals.\n",
    "#### The Beanplot- Figure 3 \n",
    "--------------------------------\n",
    "The beanplot whislt very simular to the violinplot displays an additionla feature. It displays the datapoints via lines plotted on the graph. This can be usefull to see the values of the data are distributed.From the beanplot graph below you can see that there is minimal datapoints over 70 years of age for both groups.\n",
    "\n",
    "#### Notched Boxplot - Figure 4 \n",
    "-------------------------------------------------\n",
    "The notched boxplot is very simular to the original boxplot, however there is an indent in the box to visually display the confidence interval around the median. This can be usefull to quickly compare median values across groups. From the notched plot below you can see that the medians values overlap indicating that the medians are equal for both groups.[1] \n",
    "\n",
    "\n",
    " "
   ]
  },
  {
   "cell_type": "code",
   "execution_count": 8,
   "metadata": {},
   "outputs": [
    {
     "data": {
      "text/plain": [
       "<matplotlib.axes._subplots.AxesSubplot at 0x2a9b1d2ccf8>"
      ]
     },
     "execution_count": 8,
     "metadata": {},
     "output_type": "execute_result"
    },
    {
     "name": "stderr",
     "output_type": "stream",
     "text": [
      "C:\\Users\\Harvey Norman\\Ana\\Anaconda1\\lib\\site-packages\\scipy\\stats\\stats.py:1713: FutureWarning: Using a non-tuple sequence for multidimensional indexing is deprecated; use `arr[tuple(seq)]` instead of `arr[seq]`. In the future this will be interpreted as an array index, `arr[np.array(seq)]`, which will result either in an error or a different result.\n",
      "  return np.add.reduce(sorted[indexer] * weights, axis=axis) / sumval\n"
     ]
    },
    {
     "data": {
      "text/plain": [
       "<matplotlib.axes._subplots.AxesSubplot at 0x2a9b1d77b38>"
      ]
     },
     "execution_count": 8,
     "metadata": {},
     "output_type": "execute_result"
    },
    {
     "data": {
      "text/plain": [
       "<matplotlib.axes._subplots.AxesSubplot at 0x2a9b1dd1860>"
      ]
     },
     "execution_count": 8,
     "metadata": {},
     "output_type": "execute_result"
    },
    {
     "data": {
      "text/plain": [
       "<matplotlib.axes._subplots.AxesSubplot at 0x2a9b1da91d0>"
      ]
     },
     "execution_count": 8,
     "metadata": {},
     "output_type": "execute_result"
    },
    {
     "name": "stderr",
     "output_type": "stream",
     "text": [
      "C:\\Users\\Harvey Norman\\Ana\\Anaconda1\\lib\\site-packages\\matplotlib\\figure.py:457: UserWarning: matplotlib is currently using a non-GUI backend, so cannot show the figure\n",
      "  \"matplotlib is currently using a non-GUI backend, \"\n"
     ]
    },
    {
     "data": {
      "text/plain": [
       "<Figure size 960x800 with 0 Axes>"
      ]
     },
     "metadata": {},
     "output_type": "display_data"
    },
    {
     "data": {
      "image/png": "[encoded data removed]",
      "text/plain": [
       "<Figure size 720x360 with 4 Axes>"
      ]
     },
     "metadata": {
      "needs_background": "light"
     },
     "output_type": "display_data"
    }
   ],
   "source": [
    "emptyidx = pd.isnull(df) \n",
    "if np.sum(np.sum(emptyidx)) >0 :\n",
    "    df = df.dropna()\n",
    "\n",
    "fig=plt.figure(figsize=(12, 10), dpi= 80, facecolor='w', edgecolor='k')    \n",
    "fig, ax = plt.subplots(figsize=(10,5), ncols=2, nrows=2)\n",
    "#set x and y axis data and create boxplot        \n",
    "sns.boxplot(x = \"survived\", y=\"age\", data = df, ax=ax[0][0])\n",
    "sns.violinplot(x='survived', y='age',data=df, ax=ax[0][1])\n",
    "sns.boxplot(x='survived', y='age',data=df, notch = True,ax=ax[1][1])\n",
    "sns.violinplot(x=\"survived\", y=\"age\",data=df, inner=\"stick\", bw=.5,ax=ax[1][0])\n",
    "fig.show()"
   ]
  },
  {
   "cell_type": "markdown",
   "metadata": {},
   "source": [
    "* Fig(1) Boxplot of age grouped by the binary survival feature\n",
    "* Fig(2) Violinplot of age grouped by the binary survival feature \n",
    "* Fig(3) Beanplot of age grouped by the binary survival feature \n",
    "* Fig(4) Notched boxplot of age grouped by the binary survival feature\n"
   ]
  },
  {
   "cell_type": "markdown",
   "metadata": {},
   "source": [
    "\n",
    "\n"
   ]
  },
  {
   "cell_type": "markdown",
   "metadata": {},
   "source": [
    "### Alternatives to the boxplot\n",
    "----------------------------------\n",
    "\n",
    "There are many alternatives to the boxplot that can be used to show the distribution of univariate data. For example there are histograms, stem and leaf plots and density trees. However, these either take up a great deal of space and/or are difficult to compare between multiple variables as the plots become cluttered.\n"
   ]
  },
  {
   "cell_type": "code",
   "execution_count": 9,
   "metadata": {},
   "outputs": [
    {
     "data": {
      "text/plain": [
       "<matplotlib.axes._subplots.AxesSubplot at 0x2a9b1c58e80>"
      ]
     },
     "execution_count": 9,
     "metadata": {},
     "output_type": "execute_result"
    },
    {
     "name": "stderr",
     "output_type": "stream",
     "text": [
      "C:\\Users\\Harvey Norman\\Ana\\Anaconda1\\lib\\site-packages\\scipy\\stats\\stats.py:1713: FutureWarning: Using a non-tuple sequence for multidimensional indexing is deprecated; use `arr[tuple(seq)]` instead of `arr[seq]`. In the future this will be interpreted as an array index, `arr[np.array(seq)]`, which will result either in an error or a different result.\n",
      "  return np.add.reduce(sorted[indexer] * weights, axis=axis) / sumval\n"
     ]
    },
    {
     "data": {
      "text/plain": [
       "<matplotlib.axes._subplots.AxesSubplot at 0x2a9b1c58e80>"
      ]
     },
     "execution_count": 9,
     "metadata": {},
     "output_type": "execute_result"
    },
    {
     "data": {
      "text/plain": [
       "<matplotlib.axes._subplots.AxesSubplot at 0x2a9b1c58e80>"
      ]
     },
     "execution_count": 9,
     "metadata": {},
     "output_type": "execute_result"
    },
    {
     "data": {
      "image/png": "[encoded data removed]",
      "text/plain": [
       "<Figure size 432x288 with 1 Axes>"
      ]
     },
     "metadata": {
      "needs_background": "light"
     },
     "output_type": "display_data"
    }
   ],
   "source": [
    "# Plot histogram\n",
    "target_0 = df.loc[df.survived == 0]\n",
    "target_1 = df.loc[df.survived == 1]\n",
    "\n",
    "plt.subplot(2,2,1)\n",
    "sns.distplot(target_0.age)\n",
    "sns.distplot(target_1.age)\n"
   ]
  },
  {
   "cell_type": "markdown",
   "metadata": {},
   "source": [
    "### Alternatives to boxplots  \n",
    "\n",
    "#### The Swarmplot graph\n",
    "-------------------------\n",
    "\n",
    "The swarmplot displays the size of the dataset by displaying the number of datapoints. This is something that the original boxplot does not display."
   ]
  },
  {
   "cell_type": "code",
   "execution_count": null,
   "metadata": {},
   "outputs": [],
   "source": [
    "sns.swarmplot(x=\"survived\", y=\"age\",data=df)"
   ]
  },
  {
   "cell_type": "markdown",
   "metadata": {},
   "source": [
    "### Disadvantages with the boxplot \n",
    "\n",
    "1) Boxplots cannot show the distribution. For example if there is a bimodial distribution which displays to modes, this will not be visable on the boxplot. \n",
    "\n",
    "2) Boxplots do not display the original datpoints that make up your data.  \n",
    "\n",
    "3) Boxplots can only be used with numerical data\n",
    "\n",
    "\n"
   ]
  },
  {
   "cell_type": "markdown",
   "metadata": {},
   "source": [
    "### References \n",
    "\n",
    "[1]Hadley Wickham and Lisa Stryjewski, 40 years of boxplots ,Novermber 2011 \n",
    "\n",
    "[2]VOL.11 NO.2 | FEBRUARY 2014 | NATURE METHODS \n",
    "\n",
    "[3] Further Exploration #4 Box Plot Variations- http://datavizcatalogue.com/blog/box-plot-variations/"
   ]
  }
 ],
 "metadata": {
  "kernelspec": {
   "display_name": "Python 3",
   "language": "python",
   "name": "python3"
  },
  "language_info": {
   "codemirror_mode": {
    "name": "ipython",
    "version": 3
   },
   "file_extension": ".py",
   "mimetype": "text/x-python",
   "name": "python",
   "nbconvert_exporter": "python",
   "pygments_lexer": "ipython3",
   "version": "3.7.0"
  }
 },
 "nbformat": 4,
 "nbformat_minor": 2
}
